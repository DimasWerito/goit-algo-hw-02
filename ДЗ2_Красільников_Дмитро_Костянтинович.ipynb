{
  "nbformat": 4,
  "nbformat_minor": 0,
  "metadata": {
    "colab": {
      "provenance": [],
      "authorship_tag": "ABX9TyOEnA+0TT16UMyNbUoTsarO",
      "include_colab_link": true
    },
    "kernelspec": {
      "name": "python3",
      "display_name": "Python 3"
    },
    "language_info": {
      "name": "python"
    }
  },
  "cells": [
    {
      "cell_type": "markdown",
      "metadata": {
        "id": "view-in-github",
        "colab_type": "text"
      },
      "source": [
        "<a href=\"https://colab.research.google.com/github/DimasWerito/goit-algo-hw-02/blob/main/%D0%94%D0%972_%D0%9A%D1%80%D0%B0%D1%81%D1%96%D0%BB%D1%8C%D0%BD%D0%B8%D0%BA%D0%BE%D0%B2_%D0%94%D0%BC%D0%B8%D1%82%D1%80%D0%BE_%D0%9A%D0%BE%D1%81%D1%82%D1%8F%D0%BD%D1%82%D0%B8%D0%BD%D0%BE%D0%B2%D0%B8%D1%87.ipynb\" target=\"_parent\"><img src=\"https://colab.research.google.com/assets/colab-badge.svg\" alt=\"Open In Colab\"/></a>"
      ]
    },
    {
      "cell_type": "markdown",
      "source": [
        "#Завдання 1"
      ],
      "metadata": {
        "id": "xR4f1k0zmSD7"
      }
    },
    {
      "cell_type": "code",
      "execution_count": null,
      "metadata": {
        "id": "Edim0voCj-7x"
      },
      "outputs": [],
      "source": [
        "import queue\n",
        "import time\n",
        "import random\n",
        "\n",
        "# Створюю чергу заявок\n",
        "request_queue = queue.Queue()\n",
        "\n",
        "\n",
        "def generate_request():\n",
        "    \"\"\"Функція для генерації нової заявки\"\"\"\n",
        "    request_id = random.randint(1, 1000)  # унікальний випадковий номер заявки\n",
        "    request_queue.put(request_id)  # додати заявку до черги\n",
        "    print(f\"Нова заявка створена: {request_id}\")\n",
        "\n",
        "#\n",
        "def process_request():\n",
        "    \"\"\"Функція для обробки заявки\"\"\"\n",
        "    if not request_queue.empty():\n",
        "        request_id = request_queue.get()  # взяти заявку з черги\n",
        "        print(f\"Завяка виконується: {request_id}\")\n",
        "    else:\n",
        "        print(\"Немає заявок для виконання\")\n",
        "\n",
        "# Головний цикл програми\n",
        "while True:\n",
        "    generate_request()  # генерація нової заявки\n",
        "    time.sleep(1)  # затримка для імітації обробки\n",
        "    process_request()  # обробка заявки\n",
        "    time.sleep(1)  # затримка між обробкою заявок\n"
      ]
    },
    {
      "cell_type": "markdown",
      "source": [
        "#Завдання 2"
      ],
      "metadata": {
        "id": "n7tHEn0Nm4U1"
      }
    },
    {
      "cell_type": "code",
      "source": [
        "from collections import deque\n",
        "\n",
        "def is_palindrome(s):\n",
        "    \"\"\"Перетворює рядок у нижній регістр та видаляє пробіли,\n",
        "    створює двосторонньої черги з рядка та порівнює символи з обох кінців черги\"\"\"\n",
        "    s = s.lower().replace(\" \", \"\")\n",
        "    char_deque = deque(s)\n",
        "\n",
        "    while len(char_deque) > 1:\n",
        "        if char_deque.popleft() != char_deque.pop():\n",
        "            return False\n",
        "\n",
        "    return True\n",
        "\n",
        "print(is_palindrome(\"hello\"))\n",
        "print(is_palindrome(\"шабаш\"))"
      ],
      "metadata": {
        "colab": {
          "base_uri": "https://localhost:8080/"
        },
        "id": "AhN-cIlrnHvL",
        "outputId": "dcba88cb-acb2-4b43-bd87-f1a594f4f5af"
      },
      "execution_count": 13,
      "outputs": [
        {
          "output_type": "stream",
          "name": "stdout",
          "text": [
            "False\n",
            "True\n"
          ]
        }
      ]
    },
    {
      "cell_type": "markdown",
      "source": [
        "#Завдання 3"
      ],
      "metadata": {
        "id": "IvRW_N_Vpm4H"
      }
    },
    {
      "cell_type": "code",
      "source": [
        "def check_balanced(expression):\n",
        "    \"\"\"Перевіряє симметричність дужок використовуючі структуру Stack\"\"\"\n",
        "    stack = []\n",
        "    opening = \"([{\"\n",
        "    closing = \")]}\"\n",
        "    mapping = {\")\": \"(\", \"}\": \"{\", \"]\": \"[\"}\n",
        "\n",
        "    for char in expression:\n",
        "        if char in opening:\n",
        "            stack.append(char)\n",
        "        elif char in closing:\n",
        "            if not stack or stack[-1] != mapping[char]:\n",
        "                return \"Несиметричні\"\n",
        "            stack.pop()\n",
        "\n",
        "    return \"Симетричні\" if not stack else \"Несиметричні\"\n",
        "\n",
        "# Приклад використання\n",
        "expression = \"() {} [] ( ) ( ) { }\"\n",
        "print(check_balanced(expression))  # Симетричні\n",
        "\n",
        "expression = \"( ( ( )\"\n",
        "print(check_balanced(expression))  # Несиметричні\n",
        "\n",
        "expression = \"( }\"\n",
        "print(check_balanced(expression))  # Різні види\n"
      ],
      "metadata": {
        "colab": {
          "base_uri": "https://localhost:8080/"
        },
        "id": "SytOlgGbpl3y",
        "outputId": "f92fa0d0-15ac-499f-aa39-b7c92389258c"
      },
      "execution_count": 15,
      "outputs": [
        {
          "output_type": "stream",
          "name": "stdout",
          "text": [
            "Симетричні\n",
            "Несиметричні\n",
            "Несиметричні\n"
          ]
        }
      ]
    }
  ]
}